{
 "cells": [
  {
   "cell_type": "markdown",
   "metadata": {},
   "source": [
    "data source : https://www.kaggle.com/wendykan/lending-club-loan-data"
   ]
  },
  {
   "cell_type": "code",
   "execution_count": 2,
   "metadata": {},
   "outputs": [],
   "source": [
    "# Import required packages\n",
    "from sklearn.preprocessing import StandardScaler\n",
    "from sklearn.linear_model import SGDRegressor\n",
    "import pandas as pd\n",
    "import numpy as np\n",
    "\n",
    "from statistics import mean\n",
    "import re"
   ]
  },
  {
   "cell_type": "code",
   "execution_count": 3,
   "metadata": {},
   "outputs": [],
   "source": [
    "# Define custom method\n",
    "def desc_encode(desc):\n",
    "    index = desc[0]\n",
    "    desc = desc[1]\n",
    "    l = 0\n",
    "    entries = 0\n",
    "    if type(desc[\"desc\"]) == str: \n",
    "        matches = re.findall(r\"(Borrower added on .* >)(.*)\", desc[\"desc\"].replace(\"<br>\", \"\\n\"))\n",
    "        entries = (len(matches))\n",
    "        for match in matches:\n",
    "            l += len(match[1])\n",
    "    return (index, l, entries)"
   ]
  },
  {
   "cell_type": "code",
   "execution_count": 4,
   "metadata": {
    "scrolled": true
   },
   "outputs": [],
   "source": [
    "# turn csv data file to pandas DataFrame\n",
    "full_raw_data = pd.read_csv(r\"/home/tommybox/Desktop/lending-club-loan-data/loan.csv\", low_memory=False)"
   ]
  },
  {
   "cell_type": "code",
   "execution_count": 5,
   "metadata": {},
   "outputs": [],
   "source": [
    "# pull required columns out of full_raw_data DataFrame\n",
    "cols = [\n",
    "    \"loan_amnt\",\n",
    "    \"funded_amnt\",\n",
    "    \"term\",\n",
    "    \"installment\",\n",
    "    \"emp_length\",\n",
    "    \"home_ownership\",\n",
    "    \"annual_inc\",\n",
    "    \"loan_status\",\n",
    "    \"purpose\",\n",
    "    \"dti\",\n",
    "    \"delinq_2yrs\",\n",
    "    \"inq_last_6mths\",\n",
    "    \"int_rate\",   \n",
    "    \"total_pymnt\",\n",
    "    \"desc\"    \n",
    "]\n",
    "raw_data = full_raw_data[cols]"
   ]
  },
  {
   "cell_type": "code",
   "execution_count": 6,
   "metadata": {},
   "outputs": [],
   "source": [
    "# Clean Data\n",
    "data = raw_data[:]\n",
    "# return int of months of the loan duration\n",
    "data[\"term\"] = data[\"term\"].apply(lambda x: int(re.findall(\"\\d+\", x)[0]))\n",
    "# Remove unwanted loans based on homeownership, , loan status, loan duration, and funding completion\n",
    "removed_unwanted_rows = data[\n",
    "    ((data[\"home_ownership\"] == \"MORTGAGE\") | (data[\"home_ownership\"] == \"RENT\") | (data[\"home_ownership\"] == \"OWN\")) &\n",
    "    ((data[\"loan_status\"] == \"Charged Off\") | (data[\"loan_status\"] == \"Fully Paid\") | (data[\"loan_status\"] == \"Default\")) &\n",
    "    (data[\"term\"] == 36) &\n",
    "    (data[\"loan_amnt\"] == data[\"funded_amnt\"])\n",
    "    ]\n",
    "removed_unwanted_cols = removed_unwanted_rows.drop([\"term\", \"funded_amnt\"], axis=1)\n",
    "# Clean Employment length to return int 0-10\n",
    "removed_unwanted_cols[\"emp_length\"].fillna(\"0\", inplace=True)\n",
    "removed_unwanted_cols[\"emp_length\"] = pd.to_numeric(removed_unwanted_cols[\"emp_length\"].apply(lambda x: re.findall(\"\\d+\", x)[0]))\n",
    "# Create required datapoints \n",
    "removed_unwanted_cols[\"payment_ratio\"] = removed_unwanted_cols[\"annual_inc\"]/removed_unwanted_cols[\"installment\"]\n",
    "removed_unwanted_cols[\"roi\"] = removed_unwanted_cols[\"total_pymnt\"]/removed_unwanted_cols[\"loan_amnt\"]\n",
    "# One Hot Encode Home Ownership ans purpose\n",
    "own = pd.get_dummies(removed_unwanted_cols[\"home_ownership\"])\n",
    "purpose = pd.get_dummies(removed_unwanted_cols[\"purpose\"])\n",
    "# Quantify description\n",
    "desc_code = pd.DataFrame(list(map(desc_encode, removed_unwanted_cols.iterrows())), columns=[\"indx\", \"desc_len\", \"desc_entry_count\"]).set_index('indx')\n",
    "# Final concat/clean\n",
    "raw_final = removed_unwanted_cols.drop([\"installment\", \"purpose\", \"desc\", \"home_ownership\", \"loan_status\", \"total_pymnt\"], axis=1)\n",
    "final = raw_final.join(own).join(purpose).join(desc_code)\n",
    "final = final.dropna()"
   ]
  },
  {
   "cell_type": "code",
   "execution_count": 7,
   "metadata": {},
   "outputs": [
    {
     "name": "stdout",
     "output_type": "stream",
     "text": [
      "1.042453391139412\n"
     ]
    }
   ],
   "source": [
    "goal = final[\"roi\"].mean()\n",
    "print(goal)"
   ]
  },
  {
   "cell_type": "code",
   "execution_count": 8,
   "metadata": {},
   "outputs": [],
   "source": [
    "# Manual Train/Set Split\n",
    "shuffled_data = final.sample(frac=1)\n",
    "split = .75\n",
    "split_int = int(len(shuffled_data)*split)\n",
    "test = shuffled_data[split_int:]\n",
    "train = shuffled_data[:split_int]"
   ]
  },
  {
   "cell_type": "code",
   "execution_count": 9,
   "metadata": {},
   "outputs": [],
   "source": [
    "# Remove outliers\n",
    "drop = train[train[\"annual_inc\"]>200000].index\n",
    "train = train.drop(drop)\n",
    "\n",
    "drop = train[train[\"payment_ratio\"]>200000].index\n",
    "train = train.drop(drop)\n",
    "\n",
    "drop = train[train[\"desc_len\"]>2000].index\n",
    "train = train.drop(drop)"
   ]
  },
  {
   "cell_type": "code",
   "execution_count": 10,
   "metadata": {},
   "outputs": [],
   "source": [
    "X = train.drop([\"roi\"], axis=1)\n",
    "y = train[\"roi\"]"
   ]
  },
  {
   "cell_type": "code",
   "execution_count": 11,
   "metadata": {},
   "outputs": [],
   "source": [
    "scaler = StandardScaler()\n",
    "scaler.fit(X)\n",
    "X = scaler.transform(X)"
   ]
  },
  {
   "cell_type": "code",
   "execution_count": 12,
   "metadata": {
    "scrolled": true
   },
   "outputs": [
    {
     "data": {
      "text/plain": [
       "SGDRegressor(alpha=0.0001, average=False, early_stopping=False, epsilon=0.1,\n",
       "             eta0=0.01, fit_intercept=True, l1_ratio=0.15,\n",
       "             learning_rate='invscaling', loss='squared_loss', max_iter=1000,\n",
       "             n_iter_no_change=5, penalty='l2', power_t=0.25, random_state=None,\n",
       "             shuffle=True, tol=0.001, validation_fraction=0.1, verbose=0,\n",
       "             warm_start=False)"
      ]
     },
     "execution_count": 12,
     "metadata": {},
     "output_type": "execute_result"
    }
   ],
   "source": [
    "model = SGDRegressor()\n",
    "model.fit(X, y)"
   ]
  },
  {
   "cell_type": "code",
   "execution_count": 13,
   "metadata": {},
   "outputs": [],
   "source": [
    "# Scale/Prep test Data\n",
    "test_input = test.drop([\"roi\"], axis=1)\n",
    "X_test = scaler.transform(test_input)\n",
    "y_test = test[\"roi\"]"
   ]
  },
  {
   "cell_type": "code",
   "execution_count": 14,
   "metadata": {
    "scrolled": true
   },
   "outputs": [],
   "source": [
    "y_pred = model.predict(X_test)"
   ]
  },
  {
   "cell_type": "code",
   "execution_count": 15,
   "metadata": {},
   "outputs": [],
   "source": [
    "# Create a DataFrame to find a threshold that returns best ROI on a resonable percent of loans\n",
    "log = []\n",
    "ln = len(y_pred)\n",
    "for thr in np.linspace(.9, 1.2, num=100):\n",
    "    l = []\n",
    "    for i, pred in enumerate(y_pred):\n",
    "        if pred > thr:\n",
    "            l.append(test.iloc[i][\"roi\"])\n",
    "\n",
    "    log.append((thr, mean(l) if len(l) != 0 else 0, len(l), len(l)/ln))    \n",
    "\n",
    "logs = pd.DataFrame(log, columns = [\"threshold\", \"roi_avg\", \"amount\", \"amt_percent\"])"
   ]
  },
  {
   "cell_type": "code",
   "execution_count": 17,
   "metadata": {},
   "outputs": [
    {
     "data": {
      "text/plain": [
       "<matplotlib.axes._subplots.AxesSubplot at 0x7f00251f4d30>"
      ]
     },
     "execution_count": 17,
     "metadata": {},
     "output_type": "execute_result"
    },
    {
     "data": {
      "image/png": "[encoded data removed]",
      "text/plain": [
       "<Figure size 432x288 with 1 Axes>"
      ]
     },
     "metadata": {
      "needs_background": "light"
     },
     "output_type": "display_data"
    }
   ],
   "source": [
    "logs.plot.line(y=\"roi_avg\", x=\"threshold\")"
   ]
  },
  {
   "cell_type": "code",
   "execution_count": 18,
   "metadata": {},
   "outputs": [
    {
     "data": {
      "text/plain": [
       "<matplotlib.axes._subplots.AxesSubplot at 0x7f00241427f0>"
      ]
     },
     "execution_count": 18,
     "metadata": {},
     "output_type": "execute_result"
    },
    {
     "data": {
      "image/png": "[encoded data removed]",
      "text/plain": [
       "<Figure size 432x288 with 1 Axes>"
      ]
     },
     "metadata": {
      "needs_background": "light"
     },
     "output_type": "display_data"
    }
   ],
   "source": [
    "logs.plot.line(x=\"threshold\", y=\"amt_percent\")"
   ]
  },
  {
   "cell_type": "code",
   "execution_count": 19,
   "metadata": {},
   "outputs": [],
   "source": [
    "thr = 1.077\n",
    "approved_loans= test[y_pred>thr]"
   ]
  },
  {
   "cell_type": "code",
   "execution_count": 20,
   "metadata": {},
   "outputs": [
    {
     "data": {
      "text/html": [
       "<div>\n",
       "<style scoped>\n",
       "    .dataframe tbody tr th:only-of-type {\n",
       "        vertical-align: middle;\n",
       "    }\n",
       "\n",
       "    .dataframe tbody tr th {\n",
       "        vertical-align: top;\n",
       "    }\n",
       "\n",
       "    .dataframe thead th {\n",
       "        text-align: right;\n",
       "    }\n",
       "</style>\n",
       "<table border=\"1\" class=\"dataframe\">\n",
       "  <thead>\n",
       "    <tr style=\"text-align: right;\">\n",
       "      <th></th>\n",
       "      <th>loan_amnt</th>\n",
       "      <th>emp_length</th>\n",
       "      <th>annual_inc</th>\n",
       "      <th>dti</th>\n",
       "      <th>delinq_2yrs</th>\n",
       "      <th>inq_last_6mths</th>\n",
       "      <th>int_rate</th>\n",
       "      <th>payment_ratio</th>\n",
       "      <th>roi</th>\n",
       "      <th>MORTGAGE</th>\n",
       "      <th>...</th>\n",
       "      <th>major_purchase</th>\n",
       "      <th>medical</th>\n",
       "      <th>moving</th>\n",
       "      <th>other</th>\n",
       "      <th>renewable_energy</th>\n",
       "      <th>small_business</th>\n",
       "      <th>vacation</th>\n",
       "      <th>wedding</th>\n",
       "      <th>desc_len</th>\n",
       "      <th>desc_entry_count</th>\n",
       "    </tr>\n",
       "  </thead>\n",
       "  <tbody>\n",
       "    <tr>\n",
       "      <th>count</th>\n",
       "      <td>27511.00000</td>\n",
       "      <td>27511.000000</td>\n",
       "      <td>2.751100e+04</td>\n",
       "      <td>27511.000000</td>\n",
       "      <td>27511.000000</td>\n",
       "      <td>27511.000000</td>\n",
       "      <td>27511.000000</td>\n",
       "      <td>27511.000000</td>\n",
       "      <td>27511.000000</td>\n",
       "      <td>27511.000000</td>\n",
       "      <td>...</td>\n",
       "      <td>27511.000000</td>\n",
       "      <td>27511.000000</td>\n",
       "      <td>27511.000000</td>\n",
       "      <td>27511.000000</td>\n",
       "      <td>27511.0</td>\n",
       "      <td>27511.000000</td>\n",
       "      <td>27511.000000</td>\n",
       "      <td>27511.000000</td>\n",
       "      <td>27511.000000</td>\n",
       "      <td>27511.000000</td>\n",
       "    </tr>\n",
       "    <tr>\n",
       "      <th>mean</th>\n",
       "      <td>11737.13969</td>\n",
       "      <td>7.421395</td>\n",
       "      <td>7.697051e+04</td>\n",
       "      <td>13.537920</td>\n",
       "      <td>0.185562</td>\n",
       "      <td>0.445822</td>\n",
       "      <td>10.034260</td>\n",
       "      <td>260.612775</td>\n",
       "      <td>1.084215</td>\n",
       "      <td>0.707244</td>\n",
       "      <td>...</td>\n",
       "      <td>0.033587</td>\n",
       "      <td>0.002872</td>\n",
       "      <td>0.002217</td>\n",
       "      <td>0.075315</td>\n",
       "      <td>0.0</td>\n",
       "      <td>0.002108</td>\n",
       "      <td>0.000945</td>\n",
       "      <td>0.017593</td>\n",
       "      <td>105.309331</td>\n",
       "      <td>0.704409</td>\n",
       "    </tr>\n",
       "    <tr>\n",
       "      <th>std</th>\n",
       "      <td>6681.01062</td>\n",
       "      <td>3.282527</td>\n",
       "      <td>4.964036e+04</td>\n",
       "      <td>7.032896</td>\n",
       "      <td>0.571837</td>\n",
       "      <td>0.778879</td>\n",
       "      <td>3.517175</td>\n",
       "      <td>216.564970</td>\n",
       "      <td>0.176055</td>\n",
       "      <td>0.455035</td>\n",
       "      <td>...</td>\n",
       "      <td>0.180166</td>\n",
       "      <td>0.053511</td>\n",
       "      <td>0.047037</td>\n",
       "      <td>0.263904</td>\n",
       "      <td>0.0</td>\n",
       "      <td>0.045868</td>\n",
       "      <td>0.030728</td>\n",
       "      <td>0.131469</td>\n",
       "      <td>171.651573</td>\n",
       "      <td>0.767673</td>\n",
       "    </tr>\n",
       "    <tr>\n",
       "      <th>min</th>\n",
       "      <td>1000.00000</td>\n",
       "      <td>0.000000</td>\n",
       "      <td>4.200000e+03</td>\n",
       "      <td>0.000000</td>\n",
       "      <td>0.000000</td>\n",
       "      <td>0.000000</td>\n",
       "      <td>5.310000</td>\n",
       "      <td>40.837162</td>\n",
       "      <td>0.000000</td>\n",
       "      <td>0.000000</td>\n",
       "      <td>...</td>\n",
       "      <td>0.000000</td>\n",
       "      <td>0.000000</td>\n",
       "      <td>0.000000</td>\n",
       "      <td>0.000000</td>\n",
       "      <td>0.0</td>\n",
       "      <td>0.000000</td>\n",
       "      <td>0.000000</td>\n",
       "      <td>0.000000</td>\n",
       "      <td>0.000000</td>\n",
       "      <td>0.000000</td>\n",
       "    </tr>\n",
       "    <tr>\n",
       "      <th>25%</th>\n",
       "      <td>6800.00000</td>\n",
       "      <td>5.000000</td>\n",
       "      <td>4.825550e+04</td>\n",
       "      <td>8.220000</td>\n",
       "      <td>0.000000</td>\n",
       "      <td>0.000000</td>\n",
       "      <td>7.260000</td>\n",
       "      <td>135.315886</td>\n",
       "      <td>1.069162</td>\n",
       "      <td>0.000000</td>\n",
       "      <td>...</td>\n",
       "      <td>0.000000</td>\n",
       "      <td>0.000000</td>\n",
       "      <td>0.000000</td>\n",
       "      <td>0.000000</td>\n",
       "      <td>0.0</td>\n",
       "      <td>0.000000</td>\n",
       "      <td>0.000000</td>\n",
       "      <td>0.000000</td>\n",
       "      <td>0.000000</td>\n",
       "      <td>0.000000</td>\n",
       "    </tr>\n",
       "    <tr>\n",
       "      <th>50%</th>\n",
       "      <td>10000.00000</td>\n",
       "      <td>10.000000</td>\n",
       "      <td>6.616400e+04</td>\n",
       "      <td>12.880000</td>\n",
       "      <td>0.000000</td>\n",
       "      <td>0.000000</td>\n",
       "      <td>9.170000</td>\n",
       "      <td>197.251627</td>\n",
       "      <td>1.110140</td>\n",
       "      <td>1.000000</td>\n",
       "      <td>...</td>\n",
       "      <td>0.000000</td>\n",
       "      <td>0.000000</td>\n",
       "      <td>0.000000</td>\n",
       "      <td>0.000000</td>\n",
       "      <td>0.0</td>\n",
       "      <td>0.000000</td>\n",
       "      <td>0.000000</td>\n",
       "      <td>0.000000</td>\n",
       "      <td>38.000000</td>\n",
       "      <td>1.000000</td>\n",
       "    </tr>\n",
       "    <tr>\n",
       "      <th>75%</th>\n",
       "      <td>15000.00000</td>\n",
       "      <td>10.000000</td>\n",
       "      <td>9.300000e+04</td>\n",
       "      <td>18.245000</td>\n",
       "      <td>0.000000</td>\n",
       "      <td>1.000000</td>\n",
       "      <td>12.350000</td>\n",
       "      <td>307.121515</td>\n",
       "      <td>1.164300</td>\n",
       "      <td>1.000000</td>\n",
       "      <td>...</td>\n",
       "      <td>0.000000</td>\n",
       "      <td>0.000000</td>\n",
       "      <td>0.000000</td>\n",
       "      <td>0.000000</td>\n",
       "      <td>0.0</td>\n",
       "      <td>0.000000</td>\n",
       "      <td>0.000000</td>\n",
       "      <td>0.000000</td>\n",
       "      <td>159.000000</td>\n",
       "      <td>1.000000</td>\n",
       "    </tr>\n",
       "    <tr>\n",
       "      <th>max</th>\n",
       "      <td>40000.00000</td>\n",
       "      <td>10.000000</td>\n",
       "      <td>1.500000e+06</td>\n",
       "      <td>35.760000</td>\n",
       "      <td>22.000000</td>\n",
       "      <td>7.000000</td>\n",
       "      <td>25.820000</td>\n",
       "      <td>3003.465537</td>\n",
       "      <td>1.426145</td>\n",
       "      <td>1.000000</td>\n",
       "      <td>...</td>\n",
       "      <td>1.000000</td>\n",
       "      <td>1.000000</td>\n",
       "      <td>1.000000</td>\n",
       "      <td>1.000000</td>\n",
       "      <td>0.0</td>\n",
       "      <td>1.000000</td>\n",
       "      <td>1.000000</td>\n",
       "      <td>1.000000</td>\n",
       "      <td>3594.000000</td>\n",
       "      <td>28.000000</td>\n",
       "    </tr>\n",
       "  </tbody>\n",
       "</table>\n",
       "<p>8 rows × 28 columns</p>\n",
       "</div>"
      ],
      "text/plain": [
       "         loan_amnt    emp_length    annual_inc           dti   delinq_2yrs  \\\n",
       "count  27511.00000  27511.000000  2.751100e+04  27511.000000  27511.000000   \n",
       "mean   11737.13969      7.421395  7.697051e+04     13.537920      0.185562   \n",
       "std     6681.01062      3.282527  4.964036e+04      7.032896      0.571837   \n",
       "min     1000.00000      0.000000  4.200000e+03      0.000000      0.000000   \n",
       "25%     6800.00000      5.000000  4.825550e+04      8.220000      0.000000   \n",
       "50%    10000.00000     10.000000  6.616400e+04     12.880000      0.000000   \n",
       "75%    15000.00000     10.000000  9.300000e+04     18.245000      0.000000   \n",
       "max    40000.00000     10.000000  1.500000e+06     35.760000     22.000000   \n",
       "\n",
       "       inq_last_6mths      int_rate  payment_ratio           roi  \\\n",
       "count    27511.000000  27511.000000   27511.000000  27511.000000   \n",
       "mean         0.445822     10.034260     260.612775      1.084215   \n",
       "std          0.778879      3.517175     216.564970      0.176055   \n",
       "min          0.000000      5.310000      40.837162      0.000000   \n",
       "25%          0.000000      7.260000     135.315886      1.069162   \n",
       "50%          0.000000      9.170000     197.251627      1.110140   \n",
       "75%          1.000000     12.350000     307.121515      1.164300   \n",
       "max          7.000000     25.820000    3003.465537      1.426145   \n",
       "\n",
       "           MORTGAGE  ...  major_purchase       medical        moving  \\\n",
       "count  27511.000000  ...    27511.000000  27511.000000  27511.000000   \n",
       "mean       0.707244  ...        0.033587      0.002872      0.002217   \n",
       "std        0.455035  ...        0.180166      0.053511      0.047037   \n",
       "min        0.000000  ...        0.000000      0.000000      0.000000   \n",
       "25%        0.000000  ...        0.000000      0.000000      0.000000   \n",
       "50%        1.000000  ...        0.000000      0.000000      0.000000   \n",
       "75%        1.000000  ...        0.000000      0.000000      0.000000   \n",
       "max        1.000000  ...        1.000000      1.000000      1.000000   \n",
       "\n",
       "              other  renewable_energy  small_business      vacation  \\\n",
       "count  27511.000000           27511.0    27511.000000  27511.000000   \n",
       "mean       0.075315               0.0        0.002108      0.000945   \n",
       "std        0.263904               0.0        0.045868      0.030728   \n",
       "min        0.000000               0.0        0.000000      0.000000   \n",
       "25%        0.000000               0.0        0.000000      0.000000   \n",
       "50%        0.000000               0.0        0.000000      0.000000   \n",
       "75%        0.000000               0.0        0.000000      0.000000   \n",
       "max        1.000000               0.0        1.000000      1.000000   \n",
       "\n",
       "            wedding      desc_len  desc_entry_count  \n",
       "count  27511.000000  27511.000000      27511.000000  \n",
       "mean       0.017593    105.309331          0.704409  \n",
       "std        0.131469    171.651573          0.767673  \n",
       "min        0.000000      0.000000          0.000000  \n",
       "25%        0.000000      0.000000          0.000000  \n",
       "50%        0.000000     38.000000          1.000000  \n",
       "75%        0.000000    159.000000          1.000000  \n",
       "max        1.000000   3594.000000         28.000000  \n",
       "\n",
       "[8 rows x 28 columns]"
      ]
     },
     "execution_count": 20,
     "metadata": {},
     "output_type": "execute_result"
    }
   ],
   "source": [
    "approved_loans.describe()"
   ]
  },
  {
   "cell_type": "code",
   "execution_count": null,
   "metadata": {},
   "outputs": [],
   "source": []
  }
 ],
 "metadata": {
  "kernelspec": {
   "display_name": "Python 3",
   "language": "python",
   "name": "python3"
  },
  "language_info": {
   "codemirror_mode": {
    "name": "ipython",
    "version": 3
   },
   "file_extension": ".py",
   "mimetype": "text/x-python",
   "name": "python",
   "nbconvert_exporter": "python",
   "pygments_lexer": "ipython3",
   "version": "3.6.9"
  }
 },
 "nbformat": 4,
 "nbformat_minor": 4
}
